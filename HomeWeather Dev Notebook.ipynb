{
 "cells": [
  {
   "cell_type": "code",
   "execution_count": 1,
   "metadata": {},
   "outputs": [],
   "source": [
    "import datetime\n",
    "import time\n",
    "import pandas as pd\n",
    "import requests"
   ]
  },
  {
   "cell_type": "code",
   "execution_count": 2,
   "metadata": {},
   "outputs": [],
   "source": [
    "# Variables\n",
    "api_key = '06b639d0c99a00d538d0ddee99e33617'\n",
    "api_key2 = 'bd627fefaef37e87a1709da33a1d8bd1'\n",
    "city = 'Seattle'\n",
    "zipcode = '98117'\n",
    "latlong = (47.6894, -122.4060)     # ballard"
   ]
  },
  {
   "cell_type": "code",
   "execution_count": 106,
   "metadata": {},
   "outputs": [],
   "source": [
    "class OpenWeather :\n",
    "    \"\"\"\n",
    "    Object wrapper for the OpenWeatherData API.\n",
    "    \"\"\"\n",
    "    def __init__(self, api_key, city, latlong):        \n",
    "        self.appid = api_key\n",
    "        self.city = city\n",
    "        self.latlong = latlong\n",
    "        self.lat = str(latlong[0])\n",
    "        self.lon = str(latlong[1])\n",
    "        \n",
    "        self.current = pd.DataFrame()\n",
    "        self.minutely = pd.DataFrame()\n",
    "        self.hourly = pd.DataFrame()\n",
    "        self.daily = pd.DataFrame()\n",
    "        self.alerts = pd.DataFrame()\n",
    "        \n",
    "        # make these into their own classes?\n",
    "        self.airpollution = pd.DataFrame()\n",
    "        self.airpollution_forecast = pd.DataFrame()\n",
    "        \n",
    "        self.aqi_map = {1 : \"good\", 2 : \"fair\", 3 : \"moderate\", 4 : \"poor\", 5 : \"very poor\"}\n",
    "        \n",
    "        self.debug = False\n",
    "        \n",
    "        print('OpenWeather instance created for {}, {}.'.format(self.city, self.latlong))  \n",
    "        \n",
    "    @property\n",
    "    def appid(self) :\n",
    "        return self._appid\n",
    "    \n",
    "    @appid.setter\n",
    "    def appid(self, value) :\n",
    "        self._appid = value\n",
    "        \n",
    "    @property\n",
    "    def city(self) :\n",
    "        return self._city\n",
    "    \n",
    "    @city.setter\n",
    "    def city(self, value) :\n",
    "        self._city = value\n",
    "        \n",
    "    @property\n",
    "    def latlong(self):\n",
    "        return self._latlong\n",
    "    \n",
    "    @latlong.setter\n",
    "    def latlong(self, value) :\n",
    "        self._latlong = value\n",
    "        \n",
    "    @property\n",
    "    def lat(self) :\n",
    "        return self._latlong[0]\n",
    "    \n",
    "    @lat.setter\n",
    "    def lat(self, value) :\n",
    "        self._lat = value\n",
    "    \n",
    "    @property\n",
    "    def lon(self):\n",
    "        return self._latlong[1]\n",
    "    \n",
    "    @lon.setter\n",
    "    def lon(self, value) :\n",
    "        self._lon = value\n",
    "        \n",
    "    @property\n",
    "    def temp(self) :\n",
    "        return self.current.temp\n",
    "        \n",
    "    # functions\n",
    "    def fmt_unix_date(self, dt) :\n",
    "        fmt_string = '%Y-%m-%d %I:%M %p'\n",
    "        timestamp = datetime.datetime.utcfromtimestamp(dt).strftime(fmt_string)\n",
    "        return timestamp\n",
    "    \n",
    "    def get_onecall(self) :\n",
    "        # api.openweathermap.org/data/2.5/onecall?lat={lat}&lon={lon}&exclude={part}&appid={API key}\n",
    "        try :\n",
    "            url = 'https://api.openweathermap.org/data/2.5/onecall'\n",
    "            params = {'lat' : self.lat, 'lon' : self.lon, 'appid' : self.appid, 'units' : 'imperial'}\n",
    "            response = requests.get(url, params = params)\n",
    "            \n",
    "            if response.status_code == 200 :\n",
    "                #print('Successful request, code: {}'.format(response.status_code))\n",
    "                return response.json()\n",
    "                #self.data = response.json()\n",
    "            else :\n",
    "                print('HTTP error, code: {}'.format(response.status_code))\n",
    "                return None\n",
    "        except :\n",
    "            print('Error contacting remote server.')\n",
    "            return None\n",
    "        \n",
    "    def parse_onecall(self, data) :\n",
    "        if data is None :\n",
    "            print('No data!')\n",
    "            return None\n",
    "\n",
    "        tz_offset = data['timezone_offset']\n",
    "\n",
    "        current = pd.DataFrame.from_dict(data['current'], orient = 'index').T\n",
    "        minutely = pd.DataFrame.from_dict(data['minutely'], orient = 'columns')\n",
    "        hourly = pd.DataFrame.from_dict(data['hourly'], orient = 'columns')\n",
    "        daily = pd.DataFrame.from_dict(data['daily'], orient = 'columns')\n",
    "\n",
    "        for df in [current, minutely, hourly, daily] :\n",
    "            df['dt'] += tz_offset\n",
    "            df['timestamp'] = [self.fmt_unix_date(d) for d in df['dt']]\n",
    "            df.set_index('timestamp', inplace = True)\n",
    "            df['month'] = [datetime.datetime.utcfromtimestamp(d).strftime('%b') for d in df['dt']]\n",
    "            df['day'] = [datetime.datetime.utcfromtimestamp(d).strftime('%d') for d in df['dt']]\n",
    "            df['weekday'] = [datetime.datetime.utcfromtimestamp(d).strftime('%a') for d in df['dt']]\n",
    "        print('parsed')\n",
    "\n",
    "        #return current, hourly, daily\n",
    "        self.current = current\n",
    "        self.minutely = minutely\n",
    "        self.hourly = hourly\n",
    "        self.daily = daily\n",
    "    \n",
    "    def refresh_onecall(self) :\n",
    "        self.parse_onecall(self.get_onecall())\n",
    "        \n",
    "    # AIR POLLUTION ----------------------------------------------\n",
    "    @property\n",
    "    def aqi(self) :\n",
    "        return airPollution[\"list\"][0][\"main\"][\"aqi\"]\n",
    "    \n",
    "    @property\n",
    "    def aq_components(self) :\n",
    "        return airPollution[\"list\"][0][\"components\"]\n",
    "    \n",
    "    @property\n",
    "    def carbon_monoxide(self) :\n",
    "        return airPollution[\"list\"][0][\"components\"][\"co\"]\n",
    "    \n",
    "    @property\n",
    "    def ozone(self) :\n",
    "        return airPollution[\"list\"][0][\"components\"][\"o3\"]\n",
    "    \n",
    "    @property\n",
    "    def suphur_dioxide(self) :\n",
    "        return airPollution[\"list\"][0][\"components\"][\"s02\"]\n",
    "    \n",
    "    @property\n",
    "    def fine_particles(self) :\n",
    "        return airPollution[\"list\"][0][\"components\"][\"pm2_5\"]\n",
    "    \n",
    "    @property\n",
    "    def coarse_particles(self) :\n",
    "        return airPollution[\"list\"][0][\"components\"][\"pm10\"]\n",
    "    \n",
    "    def get_airpollution(self) :        \n",
    "        try :\n",
    "            url = 'https://api.openweathermap.org/data/2.5/air_pollution'\n",
    "            params = {'lat' : self.lat, 'lon' : self.lon, 'appid' : self.appid}\n",
    "            response = requests.get(url, params = params)\n",
    "            \n",
    "            if response.status_code == 200 :\n",
    "                #print('Successful request, code: {}'.format(response.status_code))\n",
    "                return response.json()\n",
    "            else :\n",
    "                print('HTTP error, code: {}'.format(response.status_code))\n",
    "                print(response.text)\n",
    "                return None\n",
    "        except :\n",
    "            print('Error contacting remote server.')\n",
    "            return None\n",
    "    \n",
    "    def parse_airpollution(self, data) :\n",
    "        if data is None :\n",
    "            print('No data!')\n",
    "            return None\n",
    "        else :\n",
    "            print('Not implemented yet')\n",
    "        \n",
    "    def refresh_airpollution(self) :\n",
    "        print('Not implemented yet')\n",
    "        #self.parse_airpollution(self.get_airpollution())\n",
    "    \n",
    "    def get_airpollution_forecast(self) :\n",
    "        try :\n",
    "            url = 'https://api.openweathermap.org/data/2.5/airpollution/forecast'\n",
    "            params = {'lat' : self.lat, 'lon' : self.lon, 'appid' : 'bd627fefaef37e87a1709da33a1d8bd1'}\n",
    "            response = requests.get(url, params = params)\n",
    "            \n",
    "            if response.status_code == 200 :\n",
    "                #print('Successful request, code: {}'.format(response.status_code))\n",
    "                return response.json()\n",
    "            else :\n",
    "                print('HTTP error, code: {}'.format(response.status_code))\n",
    "                return None\n",
    "        except :\n",
    "            print('Error contacting remote server.')\n",
    "            return None\n",
    "    \n",
    "    def parse_airpollution_forecast(self) :\n",
    "        if data is None :\n",
    "            print('No data!')\n",
    "            return None\n",
    "        \n",
    "    def refresh_airpollution(self) :\n",
    "        self.parse_airpollution_forecast(self.get_airpollution_forecast())\n",
    "        \n",
    "    # HISTORICAL WEATHER -----------------------------------------\n",
    "    def get_historical_weather(self) :\n",
    "        # date from the past 5 days, Unix time, UTC time zone\n",
    "        dt = ''\n",
    "        try :\n",
    "            url = 'https://api.openweathermap.org/data/2.5/onecall/timemachine'\n",
    "            params = {'lat' : self.lat, 'lon' : self.lon, 'dt' : dt, 'appid' : 'bd627fefaef37e87a1709da33a1d8bd1'}\n",
    "            response = requests.get(url, params = params)\n",
    "            \n",
    "            if response.status_code == 200 :\n",
    "                #print('Successful request, code: {}'.format(response.status_code))\n",
    "                return response.json()\n",
    "            else :\n",
    "                print('HTTP error, code: {}'.format(response.status_code))\n",
    "                return None\n",
    "        except :\n",
    "            print('Error contacting remote server.')\n",
    "            return None\n",
    "    \n",
    "    def parse_historical_weather(self, data) :\n",
    "        if data is None :\n",
    "            print('No data!')\n",
    "            return None\n",
    "    \n"
   ]
  },
  {
   "cell_type": "code",
   "execution_count": 107,
   "metadata": {},
   "outputs": [
    {
     "name": "stdout",
     "output_type": "stream",
     "text": [
      "OpenWeather instance created for Seattle, (47.6894, -122.406).\n",
      "parsed\n"
     ]
    }
   ],
   "source": [
    "myWeather = OpenWeather(api_key, city, latlong)\n",
    "myWeather.refresh_onecall()\n"
   ]
  },
  {
   "cell_type": "code",
   "execution_count": 110,
   "metadata": {},
   "outputs": [
    {
     "data": {
      "text/plain": [
       "'good'"
      ]
     },
     "execution_count": 110,
     "metadata": {},
     "output_type": "execute_result"
    }
   ],
   "source": [
    "myWeather.aqi_map[1]\n"
   ]
  },
  {
   "cell_type": "code",
   "execution_count": 92,
   "metadata": {},
   "outputs": [],
   "source": [
    "aqi = airPollution[\"list\"][0][\"main\"][\"aqi\"]\n",
    "components = airPollution[\"list\"][0][\"components\"]\n",
    "#type(ap_data[\"main\"])"
   ]
  },
  {
   "cell_type": "code",
   "execution_count": 96,
   "metadata": {},
   "outputs": [
    {
     "data": {
      "text/plain": [
       "36.12"
      ]
     },
     "execution_count": 96,
     "metadata": {},
     "output_type": "execute_result"
    }
   ],
   "source": [
    "components[\"o3\"]\n",
    "\n"
   ]
  },
  {
   "cell_type": "code",
   "execution_count": 76,
   "metadata": {},
   "outputs": [
    {
     "data": {
      "text/plain": [
       "41.84"
      ]
     },
     "execution_count": 76,
     "metadata": {},
     "output_type": "execute_result"
    }
   ],
   "source": [
    "ap_data[\"components\"][\"o3\"]"
   ]
  },
  {
   "cell_type": "code",
   "execution_count": null,
   "metadata": {},
   "outputs": [],
   "source": []
  }
 ],
 "metadata": {
  "kernelspec": {
   "display_name": "Python 3",
   "language": "python",
   "name": "python3"
  },
  "language_info": {
   "codemirror_mode": {
    "name": "ipython",
    "version": 3
   },
   "file_extension": ".py",
   "mimetype": "text/x-python",
   "name": "python",
   "nbconvert_exporter": "python",
   "pygments_lexer": "ipython3",
   "version": "3.7.1"
  },
  "toc": {
   "base_numbering": 1,
   "nav_menu": {},
   "number_sections": true,
   "sideBar": true,
   "skip_h1_title": false,
   "title_cell": "Table of Contents",
   "title_sidebar": "Contents",
   "toc_cell": false,
   "toc_position": {},
   "toc_section_display": true,
   "toc_window_display": false
  },
  "varInspector": {
   "cols": {
    "lenName": 16,
    "lenType": 16,
    "lenVar": 40
   },
   "kernels_config": {
    "python": {
     "delete_cmd_postfix": "",
     "delete_cmd_prefix": "del ",
     "library": "var_list.py",
     "varRefreshCmd": "print(var_dic_list())"
    },
    "r": {
     "delete_cmd_postfix": ") ",
     "delete_cmd_prefix": "rm(",
     "library": "var_list.r",
     "varRefreshCmd": "cat(var_dic_list()) "
    }
   },
   "types_to_exclude": [
    "module",
    "function",
    "builtin_function_or_method",
    "instance",
    "_Feature"
   ],
   "window_display": false
  }
 },
 "nbformat": 4,
 "nbformat_minor": 2
}
